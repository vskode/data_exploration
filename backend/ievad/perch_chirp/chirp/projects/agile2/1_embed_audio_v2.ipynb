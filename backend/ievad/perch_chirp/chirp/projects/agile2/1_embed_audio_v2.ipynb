{
  "cells": [
    {
      "cell_type": "code",
      "execution_count": null,
      "metadata": {
        "id": "GTtVnkC-6_i7"
      },
      "outputs": [],
      "source": [
        "import os\n",
        "from IPython.display import display\n",
        "import ipywidgets as widgets\n",
        "from ievad.perch_chirp.chirp.projects.agile2 import colab_utils\n",
        "from ievad.perch_chirp.chirp.projects.agile2 import embed\n",
        "from ievad.perch_chirp.chirp.projects.hoplite import interface\n"
      ]
    },
    {
      "cell_type": "markdown",
      "metadata": {
        "id": "4T4vILrO80iP"
      },
      "source": [
        "## Embed"
      ]
    },
    {
      "cell_type": "code",
      "execution_count": null,
      "metadata": {
        "id": "c6zdGxl68vft"
      },
      "outputs": [],
      "source": [
        "#@title Configuration { vertical-output: true }\n",
        "\n",
        "#@markdown Configure the raw dataset location(s).  The format is a mapping from\n",
        "#@markdown a dataset_name to a (base_path, fileglob) pair.  Note that the file\n",
        "#@markdown globs are case sensitive.  The dataset name can be anything you want.\n",
        "#\n",
        "#@markdown This structure allows you to move your data around without having to\n",
        "#@markdown re-embed the dataset.  The generated embedding database will be\n",
        "#@markdown placed in the base path. This allows you to simply swap out\n",
        "#@markdown the base path here if you ever move your dataset.\n",
        "\n",
        "#@markdown By default we only process one dataset at a time.  Re-run this entire notebook\n",
        "#@markdown once per dataset.  The embeddings database will be located in the\n",
        "#@markdown database_base_path.\n",
        "\n",
        "#@markdown For example, we might set dataset_base_path to '/home/me/myproject',\n",
        "#@markdown and use the glob '*/*.wav' if all of the audio files have filepaths\n",
        "#@markdown like '/home/me/myproject/site_XYZ/audio_ABC.wav'\n",
        "dataset_name = ''  #@param {type:'string'}\n",
        "dataset_base_path = ''  #@param {type:'string'}\n",
        "dataset_fileglob = ''  #@param {type:'string'}\n",
        "\n",
        "#@markdown Choose a supported model: `perch_8` or `birdnet_v2.3` are most common\n",
        "#@markdown for birds. Other choices include `surfperch` for coral reefs or\n",
        "#@markdown `multispecies_whale` for marine mammals.\n",
        "model_choice = 'perch_8'  #@param['perch_8', 'humpback', 'multispecies_whale', 'surfperch', 'birdnet_V2.3']\n",
        "\n",
        "globs_to_process = {dataset_name: (dataset_base_path, dataset_fileglob,),}\n",
        "\n",
        "# You do not need to change this unless you want to maintain multiple distinct\n",
        "# embedding databases.\n",
        "db_path = None\n",
        "configs = colab_utils.load_configs(\n",
        "    globs_to_process, db_path, model_config_key=model_choice)\n",
        "configs"
      ]
    },
    {
      "cell_type": "code",
      "execution_count": null,
      "metadata": {
        "id": "NN9Uyy1yqAWS"
      },
      "outputs": [],
      "source": [
        "#@title Initialize the DB { vertical-output: true }\n",
        "global db\n",
        "db = configs.db_config.load_db()\n",
        "db.setup()\n",
        "num_embeddings = db.count_embeddings()\n",
        "\n",
        "print('Initialized DB located at ', configs.db_config.db_config.db_path)\n",
        "\n",
        "def drop_and_reload_db(_) -\u003e interface.GraphSearchDBInterface:\n",
        "  os.unlink(configs.db_config.db_config.db_path)\n",
        "  print('\\n Deleted previous db at: ', configs.db_config.db_config.db_path)\n",
        "  db = configs.db_config.load_db()\n",
        "  db.setup()\n",
        "\n",
        "drop_existing_db = True  #@param[True, False]\n",
        "\n",
        "if num_embeddings \u003e 0 and drop_existing_db:\n",
        "  print('Existing DB contains datasets: ', db.get_dataset_names())\n",
        "  print('num embeddings: ', num_embeddings)\n",
        "  print('\\n\\nClick the button below to confirm you really want to drop the database at ')\n",
        "  print(f'{configs.db_config.db_config.db_path}\\n')\n",
        "  print(f'This will permanently delete all {num_embeddings} embeddings from the existing database.\\n')\n",
        "  print('If you do NOT want to delete this data, set `drop_existing_db` above to `False` and re-run this cell.\\n')\n",
        "\n",
        "  button = widgets.Button(description='Delete database?')\n",
        "  button.on_click(drop_and_reload_db)\n",
        "  display(button)"
      ]
    },
    {
      "cell_type": "code",
      "execution_count": null,
      "metadata": {
        "id": "MnGWbhc0LhiU"
      },
      "outputs": [],
      "source": [
        "#@title Run the embedding { vertical-output: true }\n",
        "\n",
        "# If the DB already exists, we need to make sure that the the current\n",
        "# model_config is compatible with the model_config that was used previously.\n",
        "colab_utils.validate_and_save_configs(configs, db)\n",
        "\n",
        "print(f'Embedding dataset: {[key for key in globs_to_process]}')\n",
        "\n",
        "worker = embed.EmbedWorker(\n",
        "    embed_config=configs.audio_sources_config,\n",
        "    db=db,\n",
        "    model_config=configs.model_config)\n",
        "\n",
        "worker.process_all()\n",
        "\n",
        "print('\\n\\nEmbedding complete, total embeddings: ', db.count_embeddings())"
      ]
    },
    {
      "cell_type": "code",
      "execution_count": null,
      "metadata": {
        "id": "HvVuFw-somHe"
      },
      "outputs": [],
      "source": [
        "#@title Per dataset statistics { vertical-output: true }\n",
        "\n",
        "for dataset in db.get_dataset_names():\n",
        "  print(f'\\nDataset \\'{dataset}\\':')\n",
        "  print('\\tnum embeddings: ', db.get_embeddings_by_source(dataset, source_id=None).shape[0])"
      ]
    }
  ],
  "metadata": {
    "colab": {
      "last_runtime": {
        "build_target": "",
        "kind": "local"
      },
      "name": "v2_1_embed_unlabeled_audio.ipynb",
      "private_outputs": true,
      "provenance": [
        {
          "file_id": "1ePT3-fDB3kA3_T7trthFtu8xTJQWQBoQ",
          "timestamp": 1723499538314
        }
      ]
    },
    "kernelspec": {
      "display_name": "Python 3",
      "name": "python3"
    },
    "language_info": {
      "name": "python"
    }
  },
  "nbformat": 4,
  "nbformat_minor": 0
}
